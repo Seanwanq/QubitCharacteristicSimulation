{
 "cells": [
  {
   "cell_type": "code",
   "execution_count": 2,
   "metadata": {},
   "outputs": [],
   "source": [
    "from qorelib import ComputeState, ComputeStateProbability, ComputeRamseyFinalStateWithoutNoise, HamiltonianWithDrive2X2, HamiltonianWithoutDrive2X2\n",
    "from scipy.linalg import expm\n",
    "import numpy as np\n",
    "from numpy import ndarray, matrix, complexfloating, array\n",
    "import plotly.graph_objects as go\n",
    "import random\n",
    "from tqdm import tqdm\n",
    "from scipy.optimize import leastsq"
   ]
  },
  {
   "cell_type": "code",
   "execution_count": 4,
   "metadata": {},
   "outputs": [],
   "source": [
    "OmegaQ: float = 2 * np.pi * 5000\n",
    "OmegaD: float = 2 * np.pi * 5000 + 2 * np.pi * 1  # 这个频率是角频率\n",
    "# a: complexfloating = 1 / np.sqrt(2) * 1\n",
    "# b: complexfloating = 1 / np.sqrt(2)\n",
    "a: complexfloating = 1\n",
    "b: complexfloating = 0\n",
    "# b: complexfloating = (100j) / np.sqrt(10000)\n",
    "A: float = 30 * 2 * np.pi * 1\n",
    "PhiD: float = np.pi / 2 * 0"
   ]
  },
  {
   "cell_type": "code",
   "execution_count": 5,
   "metadata": {},
   "outputs": [],
   "source": [
    "initialState: matrix = matrix([[a], [b]])"
   ]
  },
  {
   "cell_type": "code",
   "execution_count": null,
   "metadata": {},
   "outputs": [],
   "source": []
  }
 ],
 "metadata": {
  "kernelspec": {
   "display_name": "base",
   "language": "python",
   "name": "python3"
  },
  "language_info": {
   "codemirror_mode": {
    "name": "ipython",
    "version": 3
   },
   "file_extension": ".py",
   "mimetype": "text/x-python",
   "name": "python",
   "nbconvert_exporter": "python",
   "pygments_lexer": "ipython3",
   "version": "3.9.12"
  },
  "orig_nbformat": 4
 },
 "nbformat": 4,
 "nbformat_minor": 2
}
